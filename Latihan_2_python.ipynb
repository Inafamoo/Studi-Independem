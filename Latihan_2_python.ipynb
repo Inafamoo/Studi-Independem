{
  "cells": [
    {
      "cell_type": "markdown",
      "metadata": {
        "id": "view-in-github",
        "colab_type": "text"
      },
      "source": [
        "<a href=\"https://colab.research.google.com/github/Inafamoo/Studi-Independem/blob/main/Latihan_2_python.ipynb\" target=\"_parent\"><img src=\"https://colab.research.google.com/assets/colab-badge.svg\" alt=\"Open In Colab\"/></a>"
      ]
    },
    {
      "cell_type": "code",
      "execution_count": null,
      "metadata": {
        "id": "wLPXrX1K2yHz"
      },
      "outputs": [],
      "source": [
        "1. Simpan data pada tabel di atas dalam sebuah dictionary! Lalu cetak dictionary yang sudah kamu buat!"
      ]
    },
    {
      "cell_type": "code",
      "execution_count": null,
      "metadata": {
        "colab": {
          "base_uri": "https://localhost:8080/"
        },
        "id": "NUYHGkqq29fh",
        "outputId": "00162142-95fd-4e14-ae9c-648fa26ed167"
      },
      "outputs": [
        {
          "name": "stdout",
          "output_type": "stream",
          "text": [
            "{'NIK': 1990022, 'Nama': 'Herman', 'jk': 'L', 'Alamat': 'Tangerang', 'Divisi': 'Machinery', 'Jabatan': 'Manager', 'GP': 10000000}\n",
            "{'NIK': 2001077, 'Nama': 'Badar', 'jk': 'L', 'Alamat': 'Bekasi', 'Divisi': 'Machinery', 'Jabatan': 'Staff', 'GP': 7500000}\n",
            "{'NIK': 2002019, 'Nama': 'Clara', 'jk': 'P', 'Alamat': 'Depok', 'Divisi': 'Compressor', 'Jabatan': 'Staff', 'GP': 7000000}\n",
            "{'NIK': 2002081, 'Nama': 'Rista', 'jk': 'P', 'Alamat': 'Bogor', 'Divisi': 'QC', 'Jabatan': 'Staff', 'GP': 6500000}\n",
            "{'NIK': 2005099, 'Nama': 'Riani', 'jk': 'P', 'Alamat': 'Bekasi', 'Divisi': 'QC', 'Jabatan': 'Operator', 'GP': 6000000}\n",
            "{'NIK': 2006003, 'Nama': 'Afif', 'jk': 'L', 'Alamat': 'Karawang', 'Divisi': 'Compressor', 'Jabatan': 'Operator', 'GP': 5500000}\n",
            "{'NIK': 2006104, 'Nama': 'Riven', 'jk': 'L', 'Alamat': 'Tangerang', 'Divisi': 'Compressor', 'Jabatan': 'Operator', 'GP': 5500000}\n",
            "{'NIK': 2001077, 'Nama': 'Endah', 'jk': 'P', 'Alamat': 'Jakarta', 'Divisi': 'Machinery', 'Jabatan': 'Operator', 'GP': 5000000}\n"
          ]
        }
      ],
      "source": [
        "herman = {\"NIK\": 1990022, \"Nama\":\"Herman\", \"jk\":\"L\", \"Alamat\":\"Tangerang\", \"Divisi\":\"Machinery\",\"Jabatan\":\"Manager\",\"GP\":10000000} \n",
        "print(herman)\n",
        "badar = {\"NIK\": 2001077, \"Nama\":\"Badar\", \"jk\":\"L\", \"Alamat\":\"Bekasi\", \"Divisi\":\"Machinery\",\"Jabatan\":\"Staff\",\"GP\":7500000} \n",
        "print(badar)\n",
        "clara = {\"NIK\": 2002019, \"Nama\":\"Clara\", \"jk\":\"P\", \"Alamat\":\"Depok\", \"Divisi\":\"Compressor\",\"Jabatan\":\"Staff\",\"GP\":7000000} \n",
        "print(clara)\n",
        "rista = {\"NIK\": 2002081, \"Nama\":\"Rista\", \"jk\":\"P\", \"Alamat\":\"Bogor\", \"Divisi\":\"QC\",\"Jabatan\":\"Staff\",\"GP\":6500000} \n",
        "print(rista)\n",
        "riani = {\"NIK\": 2005099, \"Nama\":\"Riani\", \"jk\":\"P\", \"Alamat\":\"Bekasi\", \"Divisi\":\"QC\",\"Jabatan\":\"Operator\",\"GP\":6000000} \n",
        "print(riani)\n",
        "afif = {\"NIK\": 2006003, \"Nama\":\"Afif\", \"jk\":\"L\", \"Alamat\":\"Karawang\", \"Divisi\":\"Compressor\",\"Jabatan\":\"Operator\",\"GP\":5500000} \n",
        "print(afif)\n",
        "riven = {\"NIK\": 2006104, \"Nama\":\"Riven\", \"jk\":\"L\", \"Alamat\":\"Tangerang\", \"Divisi\":\"Compressor\",\"Jabatan\":\"Operator\",\"GP\":5500000} \n",
        "print(riven)\n",
        "endah = {\"NIK\": 2001077, \"Nama\":\"Endah\", \"jk\":\"P\", \"Alamat\":\"Jakarta\", \"Divisi\":\"Machinery\",\"Jabatan\":\"Operator\",\"GP\":5000000} \n",
        "print(endah)"
      ]
    },
    {
      "cell_type": "code",
      "execution_count": null,
      "metadata": {
        "id": "P_eBsx3e3l6K"
      },
      "outputs": [],
      "source": [
        "2. Buat sebuah array dengan elemen seperti gambar di bawah! Kemudian lakukan slicing pada array tersebut sesuai dengan arahan kotak merah!"
      ]
    },
    {
      "cell_type": "code",
      "execution_count": null,
      "metadata": {
        "colab": {
          "base_uri": "https://localhost:8080/"
        },
        "id": "SESwgqal3zhG",
        "outputId": "f6f06750-8e53-4aef-add2-82d3c0422fbf"
      },
      "outputs": [
        {
          "name": "stdout",
          "output_type": "stream",
          "text": [
            "[7 8]\n"
          ]
        }
      ],
      "source": [
        "import numpy as np\n",
        "no_2 = np.array ([[1,2],\n",
        "                  [4,5],\n",
        "                  [7,8]])\n",
        "print (no_2[2,:])"
      ]
    },
    {
      "cell_type": "code",
      "execution_count": null,
      "metadata": {
        "id": "VqrlL38l4HEA"
      },
      "outputs": [],
      "source": [
        "3. Buat sebuah array dengan elemen seperti gambar di bawah! Kemudian lakukan slicing pada array tersebut sesuai dengan arahan kotak merah!"
      ]
    },
    {
      "cell_type": "code",
      "execution_count": null,
      "metadata": {
        "colab": {
          "base_uri": "https://localhost:8080/"
        },
        "id": "BFhpG3qv4WG6",
        "outputId": "fc8da076-151e-4a38-d168-8d4ab7a5923a"
      },
      "outputs": [
        {
          "name": "stdout",
          "output_type": "stream",
          "text": [
            "[6 5]\n"
          ]
        }
      ],
      "source": [
        "import numpy as np\n",
        "no_3 = np.array ([[1,2],\n",
        "                  [6,5],\n",
        "                  [9,8]])\n",
        "print (no_3[1,:])"
      ]
    },
    {
      "cell_type": "code",
      "execution_count": null,
      "metadata": {
        "id": "XSK_Qbvm4nCz"
      },
      "outputs": [],
      "source": [
        "4. Buat sebuah array dengan elemen seperti gambar di bawah! Kemudian lakukan slicing pada array tersebut sesuai dengan arahan kotak merah!"
      ]
    },
    {
      "cell_type": "code",
      "execution_count": null,
      "metadata": {
        "colab": {
          "base_uri": "https://localhost:8080/"
        },
        "id": "nc0ZbKU_4r2O",
        "outputId": "2d4b9af8-d384-49c7-c5ef-76e4895e1967"
      },
      "outputs": [
        {
          "name": "stdout",
          "output_type": "stream",
          "text": [
            "[2 1]\n"
          ]
        }
      ],
      "source": [
        "import numpy as np\n",
        "A = np.array ([[4,7,6],\n",
        "              [3,2,1],\n",
        "              [8,5,9]])\n",
        "print (A[1,1:3 ])"
      ]
    },
    {
      "cell_type": "code",
      "execution_count": null,
      "metadata": {
        "colab": {
          "base_uri": "https://localhost:8080/"
        },
        "id": "6yNSNiTW40Oy",
        "outputId": "25a33f2e-fa79-48b4-9fbf-57a8cae51003"
      },
      "outputs": [
        {
          "name": "stdout",
          "output_type": "stream",
          "text": [
            "[3 8]\n"
          ]
        }
      ],
      "source": [
        "import numpy as np\n",
        "B = np.array ([[4,3,8],\n",
        "              [7,2,5],\n",
        "              [6,1,9]])\n",
        "print (B[0,1:3 ])"
      ]
    },
    {
      "cell_type": "code",
      "execution_count": null,
      "metadata": {
        "id": "RjTzlnOp5CTT"
      },
      "outputs": [],
      "source": [
        "5. Buat sebuah array dengan elemen seperti gambar di bawah! Kemudian lakukan slicing pada array tersebut sesuai dengan arahan kotak merah!"
      ]
    },
    {
      "cell_type": "code",
      "execution_count": null,
      "metadata": {
        "colab": {
          "base_uri": "https://localhost:8080/"
        },
        "id": "B7poHmSK5JOF",
        "outputId": "8521f183-a33c-47a5-eefc-ce53ba030a44"
      },
      "outputs": [
        {
          "name": "stdout",
          "output_type": "stream",
          "text": [
            "[44 11 83]\n"
          ]
        }
      ],
      "source": [
        "import numpy as np\n",
        "A= np.array ([[23,35,93,87],\n",
        "              [92,44,11,83],\n",
        "              [40,12,46,28],\n",
        "              [73,67,65,32]])\n",
        "print (A[1, 1:4])"
      ]
    },
    {
      "cell_type": "code",
      "execution_count": null,
      "metadata": {
        "colab": {
          "base_uri": "https://localhost:8080/"
        },
        "id": "7OSeswn65VKk",
        "outputId": "667294da-3be5-4564-c778-3b914af9224b"
      },
      "outputs": [
        {
          "output_type": "stream",
          "name": "stdout",
          "text": [
            "[[12 46]\n",
            " [67 65]]\n"
          ]
        }
      ],
      "source": [
        "import numpy as np\n",
        "B= np.array ([[23,35,93,87],\n",
        "              [92,44,11,83],\n",
        "              [40,12,46,28],\n",
        "              [73,67,65,32]])\n",
        "print (B[2:4, 1:3])"
      ]
    },
    {
      "cell_type": "code",
      "source": [
        "import numpy as np\n",
        "C= np.array ([[23,35,93,87],\n",
        "              [92,44,11,83],\n",
        "              [40,12,46,28],\n",
        "              [73,67,65,32]])\n",
        "print (C[1:4 , 1:4])"
      ],
      "metadata": {
        "colab": {
          "base_uri": "https://localhost:8080/"
        },
        "id": "CbqiHUUk71W4",
        "outputId": "b92a662c-a5a4-44fd-a2a7-e388b944654f"
      },
      "execution_count": null,
      "outputs": [
        {
          "output_type": "stream",
          "name": "stdout",
          "text": [
            "[[44 11 83]\n",
            " [12 46 28]\n",
            " [67 65 32]]\n"
          ]
        }
      ]
    },
    {
      "cell_type": "code",
      "source": [
        "import numpy as np\n",
        "D= np.array ([[23,35,93,87],\n",
        "              [92,44,11,83],\n",
        "              [40,12,46,28],\n",
        "              [73,67,65,32]])\n",
        "print (D[1:3, 0:2])"
      ],
      "metadata": {
        "colab": {
          "base_uri": "https://localhost:8080/"
        },
        "id": "rNSg2jjd747K",
        "outputId": "b304797a-fd2f-4da0-c489-f18d2a0915ea"
      },
      "execution_count": null,
      "outputs": [
        {
          "output_type": "stream",
          "name": "stdout",
          "text": [
            "[[92 44]\n",
            " [40 12]]\n"
          ]
        }
      ]
    },
    {
      "cell_type": "code",
      "source": [
        "import numpy as np\n",
        "E= np.array ([[23,35,93,87],\n",
        "              [92,44,11,83],\n",
        "              [40,12,46,28],\n",
        "              [73,67,65,32]])\n",
        "print (E[0:2, 0:3])"
      ],
      "metadata": {
        "colab": {
          "base_uri": "https://localhost:8080/"
        },
        "id": "gO2SwAHc76Oc",
        "outputId": "9338a188-bf87-4649-d729-f69852f76c20"
      },
      "execution_count": null,
      "outputs": [
        {
          "output_type": "stream",
          "name": "stdout",
          "text": [
            "[[23 35 93]\n",
            " [92 44 11]]\n"
          ]
        }
      ]
    },
    {
      "cell_type": "code",
      "source": [
        "import numpy as np\n",
        "F= np.array ([[23,35,93,87],\n",
        "              [92,44,11,83],\n",
        "              [40,12,46,28],\n",
        "              [73,67,65,32]])\n",
        "print (F[1:4, 1:2])"
      ],
      "metadata": {
        "colab": {
          "base_uri": "https://localhost:8080/"
        },
        "id": "uQuescX_77bl",
        "outputId": "6f2f558a-2071-40bd-b954-19bb58f003bb"
      },
      "execution_count": null,
      "outputs": [
        {
          "output_type": "stream",
          "name": "stdout",
          "text": [
            "[[44]\n",
            " [12]\n",
            " [67]]\n"
          ]
        }
      ]
    }
  ],
  "metadata": {
    "colab": {
      "name": "Latihan 2_python.ipynb",
      "provenance": [],
      "include_colab_link": true
    },
    "kernelspec": {
      "display_name": "Python 3",
      "name": "python3"
    },
    "language_info": {
      "name": "python"
    }
  },
  "nbformat": 4,
  "nbformat_minor": 0
}