{
 "cells": [
  {
   "cell_type": "markdown",
   "metadata": {},
   "source": [
    "Importing Library"
   ]
  },
  {
   "cell_type": "code",
   "execution_count": 10,
   "metadata": {},
   "outputs": [],
   "source": [
    "from newspaper import Article\n",
    "import random \n",
    "import nltk \n",
    "import string \n",
    "from sklearn.feature_extraction.text import CountVectorizer \n",
    "from sklearn.metrics.pairwise import cosine_similarity\n",
    "import numpy as np \n",
    "import warnings \n",
    "warnings.filterwarnings('ignore')"
   ]
  },
  {
   "cell_type": "code",
   "execution_count": 11,
   "metadata": {},
   "outputs": [
    {
     "data": {
      "text/plain": [
       "True"
      ]
     },
     "execution_count": 11,
     "metadata": {},
     "output_type": "execute_result"
    }
   ],
   "source": [
    "nltk.download('punkt', quiet=True)"
   ]
  },
  {
   "cell_type": "code",
   "execution_count": 12,
   "metadata": {},
   "outputs": [
    {
     "name": "stdout",
     "output_type": "stream",
     "text": [
      "Bola.com, Jakarta - Kata-kata mutiara tentang kesepian berisi ungkapan penuh makna sekaligus isi gambaran hati. Kesepian adalah kondisi hati yang sedang sendiri.\n",
      "\n",
      "Kesepian atau merasa sendiri tampaknya menjadi hal yang cukup sering dialami orang di masa kini.\n",
      "\n",
      "Kesepian bisa didasari oleh beberapa hal, seperti ditinggal oleh orang-orang terdekat dan tersayang. Ada pula yang merasa kesepian setelah tumbuh dewasa, lingkaran pertemanan menjadi makin sedikit.\n",
      "\n",
      "Rasa sepi bisa diusir dengan mencari banyak kegiatan, misalnya melakukan hobi, jalan-jalan, dan selalu menyampaikan keluh kesah pada orang yang bisa kamu pecaya.\n",
      "\n",
      "Mengungkapkan segala yang dirasakan bisa membuat perasaan jauh lebih lega dan membuatmu akan sedikit lebih santai menghadapi sesuatu, termasuk saat kesepian.\n",
      "\n",
      "Di sisi lain, ada banyak kata-kata mutiara tentang kesepian yang berisi ungkapan gambaran kesendirian.\n",
      "\n",
      "Berikut ini kumpulan kata-kata mutiara tentang kesepian, seperti dilansir dari Wisdomquotes, Kamis (14/1/2021).\n"
     ]
    }
   ],
   "source": [
    "article = Article('https://www.mayoclinic.org/diseases-conditions/mental-illness/symptoms-causes/syc-20374968')\n",
    "article.download() \n",
    "article.parse() \n",
    "article.nlp()\n",
    "corpus = article.text\n",
    "print(corpus)"
   ]
  },
  {
   "cell_type": "code",
   "execution_count": 13,
   "metadata": {},
   "outputs": [
    {
     "name": "stdout",
     "output_type": "stream",
     "text": [
      "['Bola.com, Jakarta - Kata-kata mutiara tentang kesepian berisi ungkapan penuh makna sekaligus isi gambaran hati.', 'Kesepian adalah kondisi hati yang sedang sendiri.', 'Kesepian atau merasa sendiri tampaknya menjadi hal yang cukup sering dialami orang di masa kini.', 'Kesepian bisa didasari oleh beberapa hal, seperti ditinggal oleh orang-orang terdekat dan tersayang.', 'Ada pula yang merasa kesepian setelah tumbuh dewasa, lingkaran pertemanan menjadi makin sedikit.', 'Rasa sepi bisa diusir dengan mencari banyak kegiatan, misalnya melakukan hobi, jalan-jalan, dan selalu menyampaikan keluh kesah pada orang yang bisa kamu pecaya.', 'Mengungkapkan segala yang dirasakan bisa membuat perasaan jauh lebih lega dan membuatmu akan sedikit lebih santai menghadapi sesuatu, termasuk saat kesepian.', 'Di sisi lain, ada banyak kata-kata mutiara tentang kesepian yang berisi ungkapan gambaran kesendirian.', 'Berikut ini kumpulan kata-kata mutiara tentang kesepian, seperti dilansir dari Wisdomquotes, Kamis (14/1/2021).']\n"
     ]
    }
   ],
   "source": [
    "text = corpus\n",
    "sentence_list = nltk.sent_tokenize(text) #A list of sentences\n",
    "\n",
    "# Print the list of sentences\n",
    "print(sentence_list)\n"
   ]
  },
  {
   "cell_type": "code",
   "execution_count": 14,
   "metadata": {},
   "outputs": [],
   "source": [
    "def greeting_response(text):\n",
    "    text = text.lower()\n",
    "    \n",
    "    #Bots greeting respone\n",
    "    bot_greetings = ['howdy','hi','hello','hola']\n",
    "    \n",
    "    #Users greeting\n",
    "    user_greetings = ['hi','hey','hello','greetings','wassup']\n",
    "    \n",
    "    for word in text.split():\n",
    "        if word in user_greetings:\n",
    "            return random.choice(bot_greetings)"
   ]
  },
  {
   "cell_type": "code",
   "execution_count": 15,
   "metadata": {},
   "outputs": [],
   "source": [
    " def index_sort(list_var):\n",
    "    length = len(list_var)\n",
    "    list_index = list(range(0, length))\n",
    "    \n",
    "    x = list_var        \n",
    "    for i in range(length):\n",
    "        for j in range(length):\n",
    "            if x[list_index[i]] > x[list_index[j]]:\n",
    "                #swap\n",
    "                temp = list_index[i]\n",
    "                list_index[i] = list_index[j]\n",
    "                list_index[j] = temp\n",
    "                \n",
    "    return list_index"
   ]
  },
  {
   "cell_type": "code",
   "execution_count": 16,
   "metadata": {},
   "outputs": [],
   "source": [
    "def bot_response(user_input):\n",
    "    user_input=user_input.lower() \n",
    "    sentence_list.append(user_input) \n",
    "    bot_response= ''\n",
    "    cm=CountVectorizer().fit_transform(sentence_list) \n",
    "    similarity_scores=cosine_similarity(cm[-1],cm) \n",
    "    similarity_scores_list=similarity_scores.flatten() \n",
    "    index=index_sort(similarity_scores_list) \n",
    "    index=index[1:] \n",
    "    response_flag=0\n",
    "    \n",
    "    j=0\n",
    "    for i in range(len(index)):\n",
    "        if similarity_scores_list[index[i]]>0.0:\n",
    "            bot_response=bot_response+' '+sentence_list[index[i]]\n",
    "            response_flag=1\n",
    "            j=j+1\n",
    "        if j>2:\n",
    "            break\n",
    "\n",
    "        if response_flag==0:\n",
    "            bot_response=bot_response+\" \"+\"I apologize, I dont understand\"\n",
    "\n",
    "        sentence_list.remove(user_input) \n",
    "\n",
    "        return bot_response"
   ]
  },
  {
   "cell_type": "code",
   "execution_count": 17,
   "metadata": {},
   "outputs": [
    {
     "name": "stdout",
     "output_type": "stream",
     "text": [
      "Yanto : hi, i'm yanto i will help you answer about mental illness, if you want to exit type, bye  ?\n",
      "Yanto: hi\n",
      "Yanto:  Berikut ini kumpulan kata-kata mutiara tentang kesepian, seperti dilansir dari Wisdomquotes, Kamis (14/1/2021).\n",
      "Yanto:  I apologize, I dont understand\n",
      "Yanto: Bye Bye See you later\n"
     ]
    }
   ],
   "source": [
    "print(\"Yanto : hi, i'm yanto i will help you answer about mental illness, if you want to exit type, bye  ?\")\n",
    "\n",
    "exit_list=['exit','bye','see you later','quit']\n",
    "\n",
    "while(True):\n",
    "    user_input=input()\n",
    "    if user_input.lower() in exit_list:\n",
    "        print('Yanto: Bye Bye See you later')\n",
    "        break\n",
    "    else:\n",
    "        if greeting_response(user_input)!= None:\n",
    "            print('Yanto: '+ greeting_response(user_input))\n",
    "        else:\n",
    "            print('Yanto: '+ bot_response(user_input))"
   ]
  }
 ],
 "metadata": {
  "interpreter": {
   "hash": "2a2d7dfb32c32568b41aba1f9674b4d25daea0bcad2ec8f73905606a9f41a5ba"
  },
  "kernelspec": {
   "display_name": "Python 3.9.7",
   "language": "python",
   "name": "python3"
  },
  "language_info": {
   "codemirror_mode": {
    "name": "ipython",
    "version": 3
   },
   "file_extension": ".py",
   "mimetype": "text/x-python",
   "name": "python",
   "nbconvert_exporter": "python",
   "pygments_lexer": "ipython3",
   "version": "3.9.10"
  },
  "orig_nbformat": 4
 },
 "nbformat": 4,
 "nbformat_minor": 2
}
